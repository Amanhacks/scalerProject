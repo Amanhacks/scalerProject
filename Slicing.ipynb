{
  "nbformat": 4,
  "nbformat_minor": 0,
  "metadata": {
    "colab": {
      "provenance": [],
      "authorship_tag": "ABX9TyM6zqbAlgPyhxdKDFRz4vS1",
      "include_colab_link": true
    },
    "kernelspec": {
      "name": "python3",
      "display_name": "Python 3"
    },
    "language_info": {
      "name": "python"
    }
  },
  "cells": [
    {
      "cell_type": "markdown",
      "metadata": {
        "id": "view-in-github",
        "colab_type": "text"
      },
      "source": [
        "<a href=\"https://colab.research.google.com/github/Amanhacks/scalerProject/blob/master/Slicing.ipynb\" target=\"_parent\"><img src=\"https://colab.research.google.com/assets/colab-badge.svg\" alt=\"Open In Colab\"/></a>"
      ]
    },
    {
      "cell_type": "code",
      "execution_count": null,
      "metadata": {
        "id": "NHhWrbzDCqGn"
      },
      "outputs": [],
      "source": []
    },
    {
      "cell_type": "code",
      "source": [],
      "metadata": {
        "id": "QNwt8EjRC2qd"
      },
      "execution_count": null,
      "outputs": []
    },
    {
      "cell_type": "code",
      "source": [
        "# given the runs made by schind in matches\n",
        "#  gst sum of\n",
        "#  1. odd index matches\n",
        "#  2. event index matches\n",
        "#  3. first five matches\n",
        "#  4. last five matches"
      ],
      "metadata": {
        "id": "MjSCHYPdC2sC"
      },
      "execution_count": null,
      "outputs": []
    },
    {
      "cell_type": "code",
      "source": [
        "runs =  [30,50,78,98,75,45,34,23,12,34,55]\n",
        "\n",
        "odd_runs = []\n",
        "even_runs = []\n",
        "first_five = []\n",
        "last_five = []\n",
        "\n",
        "for i in range(1,len(runs),2):\n",
        "    odd_runs.append(runs[i])\n",
        "\n",
        "print(odd_runs)\n",
        "\n",
        "for i in range(0,len(runs),2):\n",
        "    even_runs.append(runs[i])\n",
        "\n",
        "print(even_runs)\n",
        "\n",
        "for i in range(0,5):\n",
        "    first_five.append(runs[i])\n",
        "\n",
        "print(first_five)\n",
        "\n",
        "for i in range(-5,0):\n",
        "    last_five.append(runs[i])\n",
        "\n",
        "print(last_five)"
      ],
      "metadata": {
        "colab": {
          "base_uri": "https://localhost:8080/"
        },
        "id": "ND9mqm4HDMq8",
        "outputId": "ef3d2e00-2022-4271-d9d8-2842c44fc443"
      },
      "execution_count": null,
      "outputs": [
        {
          "output_type": "stream",
          "name": "stdout",
          "text": [
            "[50, 98, 45, 23, 34]\n",
            "[30, 78, 75, 34, 12, 55]\n",
            "[30, 50, 78, 98, 75]\n",
            "[34, 23, 12, 34, 55]\n"
          ]
        }
      ]
    },
    {
      "cell_type": "code",
      "source": [
        "# List slicing  = get a slive of the list list[start:end:step] default step is 1, If step is +ve start 0 and end is length of list, if step -ve, then #todo // Slicing a list returns a new list\n",
        "print(runs[1:len(runs):2])\n",
        "print(runs[0:len(runs):2])\n",
        "print(runs[0:5])\n",
        "print(runs[-5::1])\n",
        "#print(runs[len(run)-5:0])"
      ],
      "metadata": {
        "colab": {
          "base_uri": "https://localhost:8080/"
        },
        "id": "Suhk51hxGEjF",
        "outputId": "34b9f204-4a01-4764-e8a0-52f57ee52305"
      },
      "execution_count": null,
      "outputs": [
        {
          "output_type": "stream",
          "name": "stdout",
          "text": [
            "[50, 98, 45, 23, 34]\n",
            "[30, 78, 75, 34, 12, 55]\n",
            "[30, 50, 78, 98, 75]\n",
            "[34, 23, 12, 34, 55]\n"
          ]
        }
      ]
    },
    {
      "cell_type": "code",
      "source": [
        "l = [2,4,5,7,8]\n",
        "print(l[1:4])\n",
        "print(l[:4:1])\n",
        "print(l[1:])\n",
        "print(l[1::2])\n",
        "print(l[::])"
      ],
      "metadata": {
        "colab": {
          "base_uri": "https://localhost:8080/"
        },
        "id": "cqvPNdnNJvxm",
        "outputId": "f11c9711-575e-43fd-981d-495fdff51b65"
      },
      "execution_count": null,
      "outputs": [
        {
          "output_type": "stream",
          "name": "stdout",
          "text": [
            "[4, 5, 7]\n",
            "[2, 4, 5, 7]\n",
            "[4, 5, 7, 8]\n",
            "[4, 7]\n",
            "[2, 4, 5, 7, 8]\n"
          ]
        }
      ]
    },
    {
      "cell_type": "code",
      "source": [
        "#negative index\n",
        "a = [5, 9, 2, 8, 6, 4]\n",
        "print(a[1:-2]) #[9, 2, 8]\n",
        "\n",
        "print(a[-5:0]) #[]\n",
        "print(a[0:-1]) #[5, 9, 2, 8, 6]\n",
        "print(a[-2:1:-1]) # [6, 8, 2, 9]\n",
        "print(a[5:1:-1]) # [4, 6, 8, 2]"
      ],
      "metadata": {
        "colab": {
          "base_uri": "https://localhost:8080/"
        },
        "id": "0XN6ZGWrLOOg",
        "outputId": "e78ba5e3-61e2-423f-d482-483ad2b0986f"
      },
      "execution_count": null,
      "outputs": [
        {
          "output_type": "stream",
          "name": "stdout",
          "text": [
            "[9, 2, 8]\n",
            "[]\n",
            "[5, 9, 2, 8, 6]\n",
            "[6, 8, 2]\n",
            "[4, 6, 8, 2]\n"
          ]
        }
      ]
    },
    {
      "cell_type": "code",
      "source": [
        "#Default values is last value  of list\n",
        "a = [0,10,20,30,40,50,60]\n",
        "print(a[4::-1]) #[40, 30, 20, 10, 0]\n",
        "print(a[:1:-1]) #[60, 50, 40, 30, 20]\n",
        "print(a[:2:-1]) #[60, 50, 40, 30]\n"
      ],
      "metadata": {
        "colab": {
          "base_uri": "https://localhost:8080/"
        },
        "id": "x-AwwaBcO8GT",
        "outputId": "d5f1fd1d-d7c8-469d-979a-b926d5729540"
      },
      "execution_count": null,
      "outputs": [
        {
          "output_type": "stream",
          "name": "stdout",
          "text": [
            "[40, 30, 20, 10, 0]\n",
            "[60, 50, 40, 30, 20]\n",
            "[60, 50, 40, 30]\n"
          ]
        }
      ]
    },
    {
      "cell_type": "code",
      "source": [
        "# Reversing a list\n",
        "\n",
        "a = [1,3,5,6,8,9]\n",
        "print(a[::-1])\n",
        "print(a[::-2])"
      ],
      "metadata": {
        "colab": {
          "base_uri": "https://localhost:8080/"
        },
        "id": "zFgON9Cm_Vjy",
        "outputId": "e977f5c9-f6b9-4f7e-8bb8-e1285754ad1e"
      },
      "execution_count": null,
      "outputs": [
        {
          "output_type": "stream",
          "name": "stdout",
          "text": [
            "[9, 8, 6, 5, 3, 1]\n",
            "[9, 6, 3]\n"
          ]
        }
      ]
    },
    {
      "cell_type": "code",
      "source": [
        "#Rotating a list\n",
        "a = [7,0,6,1,3]\n",
        "# after first rotation [0,6,1,3,7]\n",
        "\n",
        "# pop and append\n",
        "# x = a.pop(0)\n",
        "# a.append(x)\n",
        "# print(a)\n",
        "\n",
        "#anoter way to do it\n",
        "#Rotate three times\n",
        "#[7,0,6,1,3]\n",
        "a = [6,1,3,7,0]\n",
        "b = a[3:] + a[:3]\n",
        "print(b)\n",
        "\n",
        "\n",
        "#perform N rotation ans = a[N:] + [:N]\n"
      ],
      "metadata": {
        "colab": {
          "base_uri": "https://localhost:8080/"
        },
        "id": "iXKxR_XHAMKa",
        "outputId": "5719daf9-6b80-472d-c42d-ef45e5f5ade2"
      },
      "execution_count": null,
      "outputs": [
        {
          "output_type": "stream",
          "name": "stdout",
          "text": [
            "[7, 0, 6, 1, 3]\n"
          ]
        }
      ]
    }
  ]
}